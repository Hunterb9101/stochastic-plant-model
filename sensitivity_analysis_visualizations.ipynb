{
 "cells": [
  {
   "cell_type": "code",
   "execution_count": null,
   "metadata": {},
   "outputs": [],
   "source": [
    "import pandas as pd\n",
    "import plotly.graph_objs as go"
   ]
  },
  {
   "cell_type": "code",
   "execution_count": null,
   "metadata": {},
   "outputs": [],
   "source": [
    "df_n = pd.read_csv(\"reports/sensitivity_analysis.csv\")\n",
    "df_s = df_n.copy()\n",
    "\n",
    "df_n.drop(columns=['s' + str(x) for x in range(1,101)], inplace=True)\n",
    "df_s.drop(columns=['n' + str(x) for x in range(1,101)], inplace=True)\n",
    "\n",
    "df_n.rename(columns={'n' + str(x): str(x) for x in range(1, 101)}, inplace=True)\n",
    "df_s.rename(columns={'s' + str(x): str(x) for x in range(1, 101)}, inplace=True)\n",
    "\n",
    "df_n['species'] = 'N'\n",
    "df_s['species'] = 'S'\n",
    "\n",
    "params = ['rii', 'npn', 'mn', 'nps', 'ms', 'sps', 'rrn', 'rrs']\n",
    "df_n = pd.melt(df_n, id_vars=params+['species'], \n",
    "               value_vars=[str(x) for x in range(1,101)], var_name='year', value_name='mean_sn_ratio')\n",
    "df_s = pd.melt(df_s, id_vars=params+['species'], \n",
    "               value_vars=[str(x) for x in range(1,101)], var_name='year', value_name='mean_sn_ratio')\n",
    "\n",
    "\n",
    "df = pd.concat([df_n, df_s])\n",
    "\n",
    "print(df.head())\n",
    "print(len(df))"
   ]
  },
  {
   "cell_type": "code",
   "execution_count": null,
   "metadata": {
    "scrolled": false
   },
   "outputs": [],
   "source": [
    "no_op = lambda x: 1\n",
    "for p in params:\n",
    "    filt_rii = (df['rii'] == 0 ) if p != 'rii' else (df['rii'].apply(no_op))\n",
    "    filt_npn = (df['npn'] == 51) if p != 'npn' else (df['npn'].apply(no_op))\n",
    "    filt_mn  = (df['mn']  == 0 ) if p != 'mn'  else (df['mn'].apply(no_op) )\n",
    "    filt_nps = (df['nps'] == 51) if p != 'nps' else (df['nps'].apply(no_op))\n",
    "    filt_ms  = (df['ms']  == 0 ) if p != 'ms'  else (df['ms'].apply(no_op) )\n",
    "    filt_sps = (df['sps'] == 0 ) if p != 'sps' else (df['sps'].apply(no_op))\n",
    "    filt_rrn = (df['rrn'] == 1 ) if p != 'rrn' else (df['rrn'].apply(no_op))\n",
    "    filt_rrs = (df['rrs'] == 1 ) if p != 'rrs' else (df['rrs'].apply(no_op))\n",
    "\n",
    "    f_df = df[filt_rii & filt_npn & filt_mn & filt_nps & filt_ms & filt_sps & filt_rrn & filt_rrs]\n",
    "    n_df = f_df[f_df['species'] == 'N']\n",
    "    s_df = f_df[f_df['species'] == 'S']\n",
    "\n",
    "    layout = go.Layout(title=f'Sensitivity Analysis for {p.upper()}: Mean Native Species Percentage by Year', xaxis={'title':'Year'}, yaxis={'title':'Mean Native Species Percentage'})\n",
    "    data = [go.Scatter(x=n_df[n_df[p] == val]['year'], \n",
    "                       y=n_df[n_df[p] == val]['mean_sn_ratio']*100, \n",
    "                       name=f'{p}={val}') for val in n_df[p].unique()\n",
    "                      ]\n",
    "\n",
    "    fig = go.Figure(layout=layout, data=data)\n",
    "    fig.show()\n",
    "    fig.write_html(f'graphs/sensitivity_analysis_{p}.html')"
   ]
  },
  {
   "cell_type": "code",
   "execution_count": null,
   "metadata": {},
   "outputs": [],
   "source": []
  }
 ],
 "metadata": {
  "kernelspec": {
   "display_name": "Python 3",
   "language": "python",
   "name": "python3"
  },
  "language_info": {
   "codemirror_mode": {
    "name": "ipython",
    "version": 3
   },
   "file_extension": ".py",
   "mimetype": "text/x-python",
   "name": "python",
   "nbconvert_exporter": "python",
   "pygments_lexer": "ipython3",
   "version": "3.7.4"
  }
 },
 "nbformat": 4,
 "nbformat_minor": 2
}
